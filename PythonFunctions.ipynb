{
 "cells": [
  {
   "cell_type": "code",
   "execution_count": 7,
   "metadata": {},
   "outputs": [
    {
     "name": "stdout",
     "output_type": "stream",
     "text": [
      "475.0\n"
     ]
    }
   ],
   "source": [
    "def computepay(h, hr):\n",
    "    if h>40:\n",
    "        grspay = h*hr\n",
    "        otp = (h-40)*(hr*0.5)\n",
    "        grosspay = grspay + otp\n",
    "    else:\n",
    "        grosspay = h*hr\n",
    "    print(grosspay)\n",
    "   \n",
    "\n",
    "grosspay = computepay(45, 10)\n"
   ]
  },
  {
   "cell_type": "code",
   "execution_count": 14,
   "metadata": {},
   "outputs": [
    {
     "name": "stdout",
     "output_type": "stream",
     "text": [
      "Enter hours: 45\n",
      "Enter hour rate: 10.50\n",
      "498.75\n"
     ]
    }
   ],
   "source": [
    "def computepay():\n",
    "    if h>40:\n",
    "        grspay = h*hr\n",
    "        otp = (h-40)*(hr*0.5)\n",
    "        pay = grspay + otp\n",
    "    else:\n",
    "        pay = h*hr\n",
    "    print(pay)\n",
    "    return pay\n",
    "\n",
    "hours = input(\"Enter hours: \")\n",
    "h = float(hours)\n",
    "hrate = input(\"Enter hour rate: \")\n",
    "hr = float(hrate)\n",
    "pay = computepay()\n"
   ]
  },
  {
   "cell_type": "code",
   "execution_count": 8,
   "metadata": {},
   "outputs": [
    {
     "name": "stdout",
     "output_type": "stream",
     "text": [
      "B\n"
     ]
    }
   ],
   "source": [
    "def compute_grade(score):\n",
    "    if score >=1.0:\n",
    "        print(\"Invalid score\")\n",
    "    elif score >= 0.9:\n",
    "        print(\"A\")\n",
    "    elif score >= 0.8:\n",
    "        print(\"B\")\n",
    "    elif score >= 0.7:\n",
    "        print(\"C\")\n",
    "    elif score >= 0.6:\n",
    "        print(\"D\")\n",
    "    else:\n",
    "        print(\"F\")\n",
    "        \n",
    "\n",
    "compute_grade(0.85)\n",
    "    "
   ]
  },
  {
   "cell_type": "code",
   "execution_count": null,
   "metadata": {},
   "outputs": [],
   "source": []
  }
 ],
 "metadata": {
  "kernelspec": {
   "display_name": "Python 3",
   "language": "python",
   "name": "python3"
  }
 },
 "nbformat": 4,
 "nbformat_minor": 2
}
